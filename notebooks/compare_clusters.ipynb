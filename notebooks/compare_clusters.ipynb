{
 "cells": [
  {
   "cell_type": "markdown",
   "metadata": {},
   "source": [
    "# Compare HDBScan results"
   ]
  },
  {
   "cell_type": "code",
   "execution_count": null,
   "metadata": {},
   "outputs": [],
   "source": [
    "import matplotlib.pyplot as plt\n",
    "import numpy as np\n",
    "import SproutDataset\n",
    "from Sprout_ML import Sprout_ML\n",
    "plt.rcParams['image.origin'] = 'lower'"
   ]
  },
  {
   "cell_type": "code",
   "execution_count": null,
   "metadata": {},
   "outputs": [],
   "source": [
    "dset = SproutDataset.SproutDataset()\n",
    "full_dset = dset.all_spectra"
   ]
  },
  {
   "cell_type": "code",
   "execution_count": null,
   "metadata": {},
   "outputs": [],
   "source": [
    "unique_values = full_dset['filename'].values\n",
    "unique_values = set(unique_values.flatten())\n",
    "\n",
    "sprout_fulldset = [Sprout_ML('C:\\\\Users\\\\tania\\Documents\\SPICE\\SPROUTS\\data_L2\\\\', x) for x in unique_values]"
   ]
  },
  {
   "cell_type": "code",
   "execution_count": null,
   "metadata": {},
   "outputs": [],
   "source": [
    "list(unique_values)"
   ]
  },
  {
   "cell_type": "code",
   "execution_count": null,
   "metadata": {},
   "outputs": [],
   "source": [
    "i=0\n",
    "for x in sprout_fulldset:\n",
    "    x.whatsgoingon(croplatbottom=725, croplattop=115)\n",
    "    datetime_str = list(unique_values)[i].split('_')[3]\n",
    "    print(datetime_str)\n",
    "    date = datetime_str[:8]  \n",
    "    time = datetime_str[9:] \n",
    "    plt.title(f\"{date[:4]}-{date[4:6]}-{date[6:]} T {time[:2]}:{time[2:4]}:{time[4:]}\")\n",
    "    plt.show()\n",
    "    i+=1"
   ]
  },
  {
   "cell_type": "code",
   "execution_count": null,
   "metadata": {},
   "outputs": [],
   "source": [
    "double30_30 = np.load('saved_outputs//clustered_outputs_double64_fulldata_minclus30_minsamp30.npy')\n",
    "single30_30 = np.load('saved_outputs//clustered_outputs_64_fulldata_minclus30_minsamp30.npy')\n",
    "double50_15 = np.load('saved_outputs//clustered_outputs_double64_fulldata_minclus50_minsamp15.npy')\n",
    "single50_15 = np.load('saved_outputs//clustered_outputs_64_fulldata_minclus50_minsamp15.npy')\n",
    "double15_15 = np.load('saved_outputs//clustered_outputs_double64_fulldata_minclus15_minsamp15.npy')\n",
    "single15_15 = np.load('saved_outputs//clustered_outputs_64_fulldata_minclus15_minsamp15.npy')\n",
    "double50_5 = np.load('saved_outputs//clustered_outputs_double64_fulldata_minclus50_minsamp5.npy')\n",
    "single50_5 = np.load('saved_outputs//clustered_outputs_single64_fulldata_minclus50_minsamp5.npy')"
   ]
  },
  {
   "cell_type": "code",
   "execution_count": null,
   "metadata": {},
   "outputs": [],
   "source": [
    "stacked_outputs_single64 = np.load('saved_outputs//stacked_outputs_single64_fulldata.npy')"
   ]
  },
  {
   "cell_type": "code",
   "execution_count": null,
   "metadata": {},
   "outputs": [],
   "source": [
    "stacked_outputs_single64.mean(axis=0)\n",
    "# normalize to mean=0 and std=1\n",
    "# broadcasting"
   ]
  },
  {
   "cell_type": "code",
   "execution_count": null,
   "metadata": {},
   "outputs": [],
   "source": [
    "stacked_outputs_single64.std(axis=0)"
   ]
  },
  {
   "cell_type": "code",
   "execution_count": null,
   "metadata": {},
   "outputs": [],
   "source": [
    "stacked_outputs_single64.shape"
   ]
  },
  {
   "cell_type": "code",
   "execution_count": null,
   "metadata": {},
   "outputs": [],
   "source": [
    "centered_std1_stacked_outputs_single64 = (stacked_outputs_single64-stacked_outputs_single64.mean(axis=0))/stacked_outputs_single64.std(axis=0)"
   ]
  },
  {
   "cell_type": "code",
   "execution_count": null,
   "metadata": {},
   "outputs": [],
   "source": [
    "centered_std1_stacked_outputs_single64.mean(axis=0)"
   ]
  },
  {
   "cell_type": "code",
   "execution_count": null,
   "metadata": {},
   "outputs": [],
   "source": [
    "# try with min_cluster_size and min_samples, cluster_selection_epsilon"
   ]
  },
  {
   "cell_type": "code",
   "execution_count": null,
   "metadata": {},
   "outputs": [],
   "source": [
    "titles = [\"Single 30_30\", \"Single 50_15\", \"Single 50_5\", \"Single 15_15\", \"Double 30_30\", \"Double 50_15\", \"Double 50_5\", \"Double 15_15\"]\n",
    "data = [single30_30, single50_15, single50_5, single15_15, double30_30, double50_15, double50_5, double15_15]\n",
    "# Plot the histograms\n",
    "fig, axes = plt.subplots(2, 4, figsize=(16, 8))\n",
    "colors = plt.cm.tab20.colors\n",
    "\n",
    "for i, ax in enumerate(axes.flat):\n",
    "    ax.hist(data[i], bins=np.arange(-1, np.max(data[i])+1)-0.5, alpha=0.7, color=colors[0])\n",
    "    ax.set_title(titles[i])\n",
    "    ax.set_xlabel('Value')\n",
    "    ax.set_ylabel('Frequency')\n",
    "    ax.set_yscale('log')\n",
    "\n",
    "# Adjust layout and show plot\n",
    "plt.tight_layout()\n",
    "plt.show()"
   ]
  },
  {
   "cell_type": "code",
   "execution_count": null,
   "metadata": {},
   "outputs": [],
   "source": [
    "from matplotlib.colors import Normalize"
   ]
  },
  {
   "cell_type": "markdown",
   "metadata": {},
   "source": [
    "# 2D projections"
   ]
  },
  {
   "cell_type": "code",
   "execution_count": null,
   "metadata": {},
   "outputs": [],
   "source": [
    "proj_double = np.load('saved_outputs//umap_data_64dou_fulldata_neig15_dist01.npy')\n",
    "proj_single = np.load('saved_outputs//umap_data_single64_fulldata_nei15_dist01.npy')"
   ]
  },
  {
   "cell_type": "markdown",
   "metadata": {},
   "source": [
    "## Single augmentation"
   ]
  },
  {
   "cell_type": "code",
   "execution_count": null,
   "metadata": {},
   "outputs": [],
   "source": [
    "target_clusters = [-1, 0, 1, 2, 3, 4, 5, 6, 7, 8, 9, 10, 11]  # List of cluster labels to plot\n",
    "# target_clusters = [-1]\n",
    "selected_points = proj_single[np.isin(single15_15, target_clusters)]\n",
    "selected_labels = single15_15[np.isin(single15_15, target_clusters)]\n",
    "norm = Normalize(vmin=single15_15.min(), vmax=single15_15.max())\n",
    "\n",
    "plt.figure(figsize=(10, 6))\n",
    "plt.scatter(selected_points[:, 0], selected_points[:, 1], c=selected_labels, cmap='tab20', norm=norm, s=3)\n",
    "plt.title(f\"Scatter Plot for Clusters {target_clusters}\\nn_neighbors=15, min_dist=0.1\\nmin_cluster_size=15, min_samples=15\")\n",
    "plt.colorbar()\n",
    "plt.show()\n",
    "\n",
    "\n",
    "target_clusters = [0, 1, 2, 3, 4, 5, 6, 7, 8, 9, 11]  # List of cluster labels to plot\n",
    "selected_points = proj_single[np.isin(single15_15, target_clusters)]\n",
    "selected_labels = single15_15[np.isin(single15_15, target_clusters)]\n",
    "norm = Normalize(vmin=single15_15.min(), vmax=single15_15.max())\n",
    "\n",
    "plt.figure(figsize=(10, 6))\n",
    "plt.scatter(selected_points[:, 0], selected_points[:, 1], c=selected_labels, cmap='tab20', norm=norm, s=3)\n",
    "plt.title(f\"Scatter Plot for Clusters {target_clusters}\\nn_neighbors=15, min_dist=0.1\\nmin_cluster_size=15, min_samples=15\")\n",
    "plt.colorbar()\n",
    "plt.show()"
   ]
  },
  {
   "cell_type": "code",
   "execution_count": null,
   "metadata": {},
   "outputs": [],
   "source": [
    "target_clusters = [0, 1, 2, 3]  # List of cluster labels to plot\n",
    "selected_points = proj_single[np.isin(single30_30, target_clusters)]\n",
    "selected_labels = single30_30[np.isin(single30_30, target_clusters)]\n",
    "norm = Normalize(vmin=single30_30.min(), vmax=single30_30.max())\n",
    "\n",
    "plt.figure(figsize=(10, 6))\n",
    "plt.scatter(selected_points[:, 0], selected_points[:, 1], c=selected_labels, cmap='tab20', norm=norm, s=3)\n",
    "plt.title(f\"Scatter Plot for Clusters {target_clusters}\\nn_neighbors=15, min_dist=0.1\\nmin_cluster_size=30, min_samples=30\")\n",
    "plt.colorbar()\n",
    "plt.show()\n",
    "\n",
    "\n",
    "target_clusters = [0, 1, 3]  # List of cluster labels to plot\n",
    "selected_points = proj_single[np.isin(single30_30, target_clusters)]\n",
    "selected_labels = single30_30[np.isin(single30_30, target_clusters)]\n",
    "norm = Normalize(vmin=single30_30.min(), vmax=single30_30.max())\n",
    "\n",
    "plt.figure(figsize=(10, 6))\n",
    "plt.scatter(selected_points[:, 0], selected_points[:, 1], c=selected_labels, cmap='tab20', norm=norm, s=3)\n",
    "plt.title(f\"Scatter Plot for Clusters {target_clusters}\\nn_neighbors=15, min_dist=0.1\\nmin_cluster_size=30, min_samples=30\")\n",
    "plt.colorbar()\n",
    "plt.show()"
   ]
  },
  {
   "cell_type": "code",
   "execution_count": null,
   "metadata": {},
   "outputs": [],
   "source": [
    "target_clusters = [0, 1, 2, 3]  # List of cluster labels to plot\n",
    "selected_points = proj_single[np.isin(single50_15, target_clusters)]\n",
    "selected_labels = single50_15[np.isin(single50_15, target_clusters)]\n",
    "norm = Normalize(vmin=single50_15.min(), vmax=single50_15.max())\n",
    "\n",
    "plt.figure(figsize=(10, 6))\n",
    "plt.scatter(selected_points[:, 0], selected_points[:, 1], c=selected_labels, cmap='tab20', norm=norm, s=3)\n",
    "plt.title(f\"Scatter Plot for Clusters {target_clusters}\\nn_neighbors=15, min_dist=0.1\\nmin_cluster_size=50, min_samples=15\")\n",
    "plt.colorbar()\n",
    "plt.show()\n",
    "\n",
    "\n",
    "target_clusters = [0, 1, 3]  # List of cluster labels to plot\n",
    "selected_points = proj_single[np.isin(single50_15, target_clusters)]\n",
    "selected_labels = single50_15[np.isin(single50_15, target_clusters)]\n",
    "norm = Normalize(vmin=single50_15.min(), vmax=single50_15.max())\n",
    "\n",
    "plt.figure(figsize=(10, 6))\n",
    "plt.scatter(selected_points[:, 0], selected_points[:, 1], c=selected_labels, cmap='tab20', norm=norm, s=3)\n",
    "plt.title(f\"Scatter Plot for Clusters {target_clusters}\\nn_neighbors=15, min_dist=0.1\\nmin_cluster_size=50, min_samples=15\")\n",
    "plt.colorbar()\n",
    "plt.show()"
   ]
  },
  {
   "cell_type": "markdown",
   "metadata": {},
   "source": [
    "## Double augmentation"
   ]
  },
  {
   "cell_type": "code",
   "execution_count": null,
   "metadata": {},
   "outputs": [],
   "source": [
    "target_clusters = np.arange(0, double15_15.max())  # List of cluster labels to plot\n",
    "selected_points = proj_single[np.isin(double15_15, target_clusters)]\n",
    "selected_labels = double15_15[np.isin(double15_15, target_clusters)]\n",
    "norm = Normalize(vmin=double15_15.min(), vmax=double15_15.max())\n",
    "\n",
    "plt.figure(figsize=(10, 6))\n",
    "plt.scatter(selected_points[:, 0], selected_points[:, 1], c=selected_labels, cmap='tab20', norm=norm, s=3)\n",
    "plt.title(f\"Scatter Plot for Clusters {target_clusters}\\nn_neighbors=15, min_dist=0.1\\nmin_cluster_size=15, min_samples=15\")\n",
    "plt.colorbar()\n",
    "plt.show()\n",
    "\n",
    "\n",
    "target_clusters = np.arange(0, 34)  # List of cluster labels to plot\n",
    "selected_points = proj_single[np.isin(double15_15, target_clusters)]\n",
    "selected_labels = double15_15[np.isin(double15_15, target_clusters)]\n",
    "norm = Normalize(vmin=double15_15.min(), vmax=double15_15.max())\n",
    "\n",
    "plt.figure(figsize=(10, 6))\n",
    "plt.scatter(selected_points[:, 0], selected_points[:, 1], c=selected_labels, cmap='tab20', norm=norm, s=3)\n",
    "plt.title(f\"Scatter Plot for Clusters {target_clusters}\\nn_neighbors=15, min_dist=0.1\\nmin_cluster_size=15, min_samples=15\")\n",
    "plt.colorbar()\n",
    "plt.show()"
   ]
  },
  {
   "cell_type": "code",
   "execution_count": null,
   "metadata": {},
   "outputs": [],
   "source": [
    "target_clusters = np.arange(0, double50_15.max())\n",
    "selected_points = proj_single[np.isin(double50_15, target_clusters)]\n",
    "selected_labels = double50_15[np.isin(double50_15, target_clusters)]\n",
    "norm = Normalize(vmin=double50_15.min(), vmax=double50_15.max())\n",
    "\n",
    "plt.figure(figsize=(10, 6))\n",
    "plt.scatter(selected_points[:, 0], selected_points[:, 1], c=selected_labels, cmap='tab20', norm=norm, s=3)\n",
    "plt.title(f\"Scatter Plot for Clusters {target_clusters}\\nn_neighbors=15, min_dist=0.1\\nmin_cluster_size=50, min_samples=15\")\n",
    "plt.colorbar()\n",
    "plt.show()\n",
    "\n",
    "\n",
    "target_clusters = np.arange(0, double50_15.max()-1)  # List of cluster labels to plot\n",
    "selected_points = proj_single[np.isin(double50_15, target_clusters)]\n",
    "selected_labels = double50_15[np.isin(double50_15, target_clusters)]\n",
    "norm = Normalize(vmin=double50_15.min(), vmax=double50_15.max())\n",
    "\n",
    "plt.figure(figsize=(10, 6))\n",
    "plt.scatter(selected_points[:, 0], selected_points[:, 1], c=selected_labels, cmap='tab20', norm=norm, s=3)\n",
    "plt.title(f\"Scatter Plot for Clusters {target_clusters}\\nn_neighbors=15, min_dist=0.1\\nmin_cluster_size=50, min_samples=15\")\n",
    "plt.colorbar()\n",
    "plt.show()"
   ]
  },
  {
   "cell_type": "code",
   "execution_count": null,
   "metadata": {},
   "outputs": [],
   "source": [
    "target_clusters = np.arange(0, double30_30.max())\n",
    "selected_points = proj_single[np.isin(double30_30, target_clusters)]\n",
    "selected_labels = double30_30[np.isin(double30_30, target_clusters)]\n",
    "norm = Normalize(vmin=double30_30.min(), vmax=double30_30.max())\n",
    "\n",
    "plt.figure(figsize=(10, 6))\n",
    "plt.scatter(selected_points[:, 0], selected_points[:, 1], c=selected_labels, cmap='tab20', norm=norm, s=3)\n",
    "plt.title(f\"Scatter Plot for Clusters {target_clusters}\\nn_neighbors=15, min_dist=0.1\\nmin_cluster_size=30, min_samples=30\")\n",
    "plt.colorbar()\n",
    "plt.show()\n",
    "\n",
    "\n",
    "target_clusters = np.arange(0, double30_30.max()-1)  # List of cluster labels to plot\n",
    "selected_points = proj_single[np.isin(double30_30, target_clusters)]\n",
    "selected_labels = double30_30[np.isin(double30_30, target_clusters)]\n",
    "norm = Normalize(vmin=double30_30.min(), vmax=double30_30.max())\n",
    "\n",
    "plt.figure(figsize=(10, 6))\n",
    "plt.scatter(selected_points[:, 0], selected_points[:, 1], c=selected_labels, cmap='tab20', norm=norm, s=3)\n",
    "plt.title(f\"Scatter Plot for Clusters {target_clusters}\\nn_neighbors=15, min_dist=0.1\\nmin_cluster_size=30, min_samples=30\")\n",
    "plt.colorbar()\n",
    "plt.show()"
   ]
  },
  {
   "cell_type": "code",
   "execution_count": null,
   "metadata": {},
   "outputs": [],
   "source": [
    "target_clusters = np.arange(0, double50_5.max())\n",
    "selected_points = proj_single[np.isin(double50_5, target_clusters)]\n",
    "selected_labels = double50_5[np.isin(double50_5, target_clusters)]\n",
    "norm = Normalize(vmin=double50_5.min(), vmax=double50_5.max())\n",
    "\n",
    "plt.figure(figsize=(10, 6))\n",
    "plt.scatter(selected_points[:, 0], selected_points[:, 1], c=selected_labels, cmap='tab20', norm=norm, s=3)\n",
    "plt.title(f\"Scatter Plot for Clusters {target_clusters}\\nn_neighbors=15, min_dist=0.1\\nmin_cluster_size=50, min_samples=5\")\n",
    "plt.colorbar()\n",
    "plt.show()\n",
    "\n",
    "\n",
    "target_clusters = np.arange(0, double50_5.max()-1)  # List of cluster labels to plot\n",
    "selected_points = proj_single[np.isin(double50_5, target_clusters)]\n",
    "selected_labels = double50_5[np.isin(double50_5, target_clusters)]\n",
    "norm = Normalize(vmin=double50_5.min(), vmax=double50_5.max())\n",
    "\n",
    "plt.figure(figsize=(10, 6))\n",
    "plt.scatter(selected_points[:, 0], selected_points[:, 1], c=selected_labels, cmap='tab20', norm=norm, s=3)\n",
    "plt.title(f\"Scatter Plot for Clusters {target_clusters}\\nn_neighbors=15, min_dist=0.1\\nmin_cluster_size=50, min_samples=5\")\n",
    "plt.colorbar()\n",
    "plt.show()"
   ]
  }
 ],
 "metadata": {
  "kernelspec": {
   "display_name": "pytorch-env",
   "language": "python",
   "name": "python3"
  },
  "language_info": {
   "codemirror_mode": {
    "name": "ipython",
    "version": 3
   },
   "file_extension": ".py",
   "mimetype": "text/x-python",
   "name": "python",
   "nbconvert_exporter": "python",
   "pygments_lexer": "ipython3",
   "version": "3.12.7"
  }
 },
 "nbformat": 4,
 "nbformat_minor": 2
}
