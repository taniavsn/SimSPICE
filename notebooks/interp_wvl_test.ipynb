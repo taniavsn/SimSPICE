{
 "cells": [
  {
   "cell_type": "code",
   "execution_count": null,
   "metadata": {},
   "outputs": [],
   "source": [
    "import os\n",
    "import pandas as pd\n",
    "import xarray as xr\n",
    "import csv\n",
    "import warnings \n",
    "import tqdm\n",
    "warnings.filterwarnings(\"ignore\")\n",
    "import numpy as np\n",
    "import copy\n",
    "import matplotlib.pyplot as plt\n",
    "from scipy.interpolate import interp1d"
   ]
  },
  {
   "cell_type": "code",
   "execution_count": null,
   "metadata": {},
   "outputs": [],
   "source": [
    "from SproutDataset import SproutDataset\n",
    "from Augmentation import Augmentation\n",
    "from Sprout_ML import Sprout_ML"
   ]
  },
  {
   "cell_type": "code",
   "execution_count": null,
   "metadata": {},
   "outputs": [],
   "source": [
    "wvl_array_common_OIII = np.arange(698.6,710.0,0.19)\n",
    "wvl_array_common_OII = np.arange(714.3,722.8,0.19)\n",
    "wvl_array_common_SIV = np.arange(745.9,754.4,0.19)\n",
    "wvl_array_common_NeVIII = np.arange(764.7,776.2,0.19)\n",
    "wvl_array_common_SV = np.arange(781.6,793.0,0.19)\n",
    "wvl_array_common_CIII = np.arange(966.9,982.0,0.19)\n",
    "wvl_array_common_NIII = np.arange(985.8,995.3,0.19)\n",
    "wvl_array_common_OVI = np.arange(1027.2,1036.7,0.19)"
   ]
  },
  {
   "cell_type": "code",
   "execution_count": null,
   "metadata": {},
   "outputs": [],
   "source": [
    "wvl_array_common = np.hstack((wvl_array_common_OIII, wvl_array_common_OII, wvl_array_common_SIV, wvl_array_common_NeVIII, wvl_array_common_SV, \n",
    "                              wvl_array_common_CIII, wvl_array_common_NIII, wvl_array_common_OVI))\n",
    "wvl_array_common.shape"
   ]
  },
  {
   "cell_type": "code",
   "execution_count": null,
   "metadata": {},
   "outputs": [],
   "source": [
    "wvl_array_common"
   ]
  },
  {
   "cell_type": "code",
   "execution_count": null,
   "metadata": {},
   "outputs": [],
   "source": [
    "# Resolutions\n",
    "# O III\n",
    "(710-698.5)/60\n",
    "# O II\n",
    "(722.8-714.2)/45\n",
    "# S IV\n",
    "(754.4-745.8)/45\n",
    "# Ne VIII\n",
    "(776.2-764.6)/60\n",
    "# OIV S V\n",
    "(793-781.5)/60\n",
    "# C III\n",
    "(982-966.8)/80\n",
    "# N III\n",
    "(995.3-985.7)/51\n",
    "# O VI\n",
    "(1036.7-1027.1)/51"
   ]
  },
  {
   "cell_type": "code",
   "execution_count": null,
   "metadata": {},
   "outputs": [],
   "source": [
    "all_spectra = xr.open_dataset(\"C:\\\\Users\\\\tania\\\\Documents\\\\SPICE\\\\SPROUTS\\\\spectra_train.nc\")\n",
    "flux_array = all_spectra.isel(index=10)['flux'].values\n",
    "wvl_old = all_spectra.isel(index=10)['wvl'].values"
   ]
  },
  {
   "cell_type": "code",
   "execution_count": null,
   "metadata": {},
   "outputs": [],
   "source": [
    "f = interp1d(wvl_old, flux_array)\n",
    "flux_new = f(wvl_array_common)"
   ]
  },
  {
   "cell_type": "code",
   "execution_count": null,
   "metadata": {},
   "outputs": [],
   "source": [
    "plt.figure(figsize=(20,4))\n",
    "plt.plot(wvl_old, flux_array, label='original', color='k')\n",
    "plt.plot(wvl_array_common, flux_new, label='interpolated', linestyle='--')\n",
    "plt.legend()"
   ]
  },
  {
   "cell_type": "code",
   "execution_count": null,
   "metadata": {},
   "outputs": [],
   "source": []
  }
 ],
 "metadata": {
  "kernelspec": {
   "display_name": "pytorch-env",
   "language": "python",
   "name": "python3"
  },
  "language_info": {
   "codemirror_mode": {
    "name": "ipython",
    "version": 3
   },
   "file_extension": ".py",
   "mimetype": "text/x-python",
   "name": "python",
   "nbconvert_exporter": "python",
   "pygments_lexer": "ipython3",
   "version": "3.12.7"
  }
 },
 "nbformat": 4,
 "nbformat_minor": 2
}
