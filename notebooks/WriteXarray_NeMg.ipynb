{
 "cells": [
  {
   "cell_type": "markdown",
   "metadata": {},
   "source": [
    "# PyTorch model"
   ]
  },
  {
   "cell_type": "code",
   "execution_count": 1,
   "metadata": {},
   "outputs": [],
   "source": [
    "import os\n",
    "import torch\n",
    "import sys\n",
    "from torch import nn\n",
    "# import lightning as L\n",
    "import pandas as pd\n",
    "import xarray as xr\n",
    "import csv\n",
    "parent_dir = os.path.abspath(os.path.join(os.getcwd(), '..'))\n",
    "sys.path.append(parent_dir)"
   ]
  },
  {
   "cell_type": "code",
   "execution_count": 2,
   "metadata": {},
   "outputs": [],
   "source": [
    "import numpy as np\n",
    "import matplotlib.pyplot as plt\n",
    "# from brokenaxes import brokenaxes\n",
    "import warnings \n",
    "import tqdm\n",
    "warnings.filterwarnings(\"ignore\")"
   ]
  },
  {
   "cell_type": "code",
   "execution_count": 3,
   "metadata": {},
   "outputs": [],
   "source": [
    "from simspice.data.SproutDataset_NeMg import SproutDataset\n",
    "from torch.utils.data import DataLoader\n",
    "from simspice.utils.Augmentation import Augmentation\n",
    "from simspice.data.Sprout_ML_NeMg import Sprout_ML, interpolate_arrays"
   ]
  },
  {
   "cell_type": "code",
   "execution_count": 4,
   "metadata": {},
   "outputs": [],
   "source": [
    "import wandb"
   ]
  },
  {
   "cell_type": "code",
   "execution_count": 5,
   "metadata": {},
   "outputs": [
    {
     "name": "stdout",
     "output_type": "stream",
     "text": [
      "True\n",
      "4\n",
      "<torch.cuda.device object at 0x7fb1c0401a90>\n"
     ]
    },
    {
     "data": {
      "text/plain": [
       "'NVIDIA A100 80GB PCIe'"
      ]
     },
     "execution_count": 5,
     "metadata": {},
     "output_type": "execute_result"
    }
   ],
   "source": [
    "print(torch.cuda.is_available())\n",
    "print(torch.cuda.device_count())\n",
    "print(torch.cuda.device(0))\n",
    "torch.cuda.get_device_name(0)"
   ]
  },
  {
   "cell_type": "code",
   "execution_count": 6,
   "metadata": {},
   "outputs": [],
   "source": [
    "os.environ[\"CUDA_VISIBLE_DEVICES\"] = \"2,3\""
   ]
  },
  {
   "cell_type": "code",
   "execution_count": 7,
   "metadata": {},
   "outputs": [
    {
     "data": {
      "text/plain": [
       "40"
      ]
     },
     "execution_count": 7,
     "metadata": {},
     "output_type": "execute_result"
    }
   ],
   "source": [
    "len([766.6 , 766.79,  766.98,  767.17,  767.36,  767.55,  767.74,  767.93,\n",
    "        768.12,  768.31,  768.5 ,  768.69,  768.88,  769.07,  769.26,\n",
    "        769.45,  769.64,  769.83,  770.02,  770.21,  770.4 ,  770.59,\n",
    "        770.78,  770.97,  771.16,  771.35,  771.54,  771.73,  771.92,\n",
    "        772.11,  772.3 ,  772.49,  772.68,  772.87,  773.06,  773.25,\n",
    "        773.44,  773.63,  773.82,  774.01])"
   ]
  },
  {
   "cell_type": "markdown",
   "metadata": {},
   "source": [
    "### Write to netcdf format "
   ]
  },
  {
   "cell_type": "code",
   "execution_count": 8,
   "metadata": {},
   "outputs": [
    {
     "name": "stderr",
     "output_type": "stream",
     "text": [
      "100%|██████████| 17/17 [02:23<00:00,  8.44s/it]\n"
     ]
    }
   ],
   "source": [
    "def write_files_to_netcdf(directory, netcdf_file, nbr_files=None):\n",
    "    all_flux = []\n",
    "    all_mask = []\n",
    "    all_k = []\n",
    "    all_l = []\n",
    "    index = []\n",
    "    filenames = []\n",
    "    \n",
    "    i = 0\n",
    "    for filename in tqdm.tqdm(os.listdir(directory)[:nbr_files]):\n",
    "        if os.path.isfile(os.path.join(directory, filename)):\n",
    "            file = Sprout_ML(directory, filename)\n",
    "            wvl_common = file.common_wvl\n",
    "            \n",
    "            #################################\n",
    "            padded_spectra, masks = file.pad_flux_array(method='zeros')  # get padded flux arrays and masks\n",
    "            wvl_arrays_padded = file.pad_wvl_arrays()\n",
    "            full_spectra = np.vstack(padded_spectra)  # combine spectra into a single array\n",
    "            full_mask = np.vstack(masks)  # combine masks\n",
    "            full_wvl = np.hstack(wvl_arrays_padded)\n",
    "\n",
    "            for k in range(full_spectra.shape[1]):\n",
    "                for l in range(full_spectra.shape[2]):\n",
    "                    spec_common_wvl, mask_common_wvl = interpolate_arrays(wvl_common, full_wvl, full_spectra[:, k, l], full_mask[:, k, l])\n",
    "                    all_flux.append(spec_common_wvl)\n",
    "                    all_mask.append(mask_common_wvl)\n",
    "                    all_k.append(k)\n",
    "                    all_l.append(l)\n",
    "                    index.append(i)\n",
    "                    filenames.append(filename)\n",
    "                    i += 1\n",
    "\n",
    "    # xarray Dataset\n",
    "    ds = xr.Dataset(\n",
    "        {\n",
    "            \"flux\": ((\"index\", \"wvl\"), np.array(all_flux)),\n",
    "            \"mask\": ((\"index\", \"wvl\"), np.array(all_mask)),\n",
    "            \"x-index\" : ((\"index\"), all_k),\n",
    "            \"y-index\" : ((\"index\"), all_l),\n",
    "            \"filename\" : ((\"index\"), filenames),\n",
    "        },\n",
    "        coords={\"index\": index,\n",
    "                \"wvl\" : wvl_common, # interp1d array set of wvl every single spectrum is going to be interpolated into.\n",
    "                }\n",
    "            )\n",
    "\n",
    "    # Save to NetCDF\n",
    "    ds.to_netcdf(netcdf_file)\n",
    "\n",
    "directory_path = '/d0/tvaresano/SimSPICE/data_L2/'\n",
    "netcdf_file_path = '/d0/tvaresano/SimSPICE/spectra_train_NeMg.nc'\n",
    "\n",
    "write_files_to_netcdf(directory_path, netcdf_file_path, 17)"
   ]
  },
  {
   "cell_type": "code",
   "execution_count": 11,
   "metadata": {},
   "outputs": [
    {
     "name": "stderr",
     "output_type": "stream",
     "text": [
      "100%|██████████| 1/1 [00:08<00:00,  8.53s/it]\n"
     ]
    }
   ],
   "source": [
    "netcdf_file_path = '/d0/tvaresano/SimSPICE/spectra_Feb2023_NeMg.nc'\n",
    "directory_path = '/d0/tvaresano/SimSPICE/data_L2/Feb2023/'\n",
    "write_files_to_netcdf(directory_path, netcdf_file_path, 1)"
   ]
  },
  {
   "cell_type": "code",
   "execution_count": null,
   "metadata": {},
   "outputs": [],
   "source": []
  }
 ],
 "metadata": {
  "kernelspec": {
   "display_name": "simspice",
   "language": "python",
   "name": "python3"
  },
  "language_info": {
   "codemirror_mode": {
    "name": "ipython",
    "version": 3
   },
   "file_extension": ".py",
   "mimetype": "text/x-python",
   "name": "python",
   "nbconvert_exporter": "python",
   "pygments_lexer": "ipython3",
   "version": "3.13.5"
  }
 },
 "nbformat": 4,
 "nbformat_minor": 2
}
