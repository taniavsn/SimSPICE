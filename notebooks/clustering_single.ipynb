{
 "cells": [
  {
   "cell_type": "markdown",
   "id": "9f368120",
   "metadata": {},
   "source": [
    "# Clustering single augmentation"
   ]
  },
  {
   "cell_type": "code",
   "execution_count": 4,
   "id": "c4ea888e",
   "metadata": {},
   "outputs": [],
   "source": [
    "import sys\n",
    "import os\n",
    "\n",
    "parent_dir = os.path.abspath(os.path.join(os.getcwd(), '..'))\n",
    "sys.path.append(parent_dir)\n",
    "parent_dir1 = os.path.abspath(os.path.join(parent_dir, '..'))\n",
    "sys.path.append(parent_dir1)\n",
    "\n",
    "import numpy as np\n",
    "import matplotlib.pyplot as plt\n",
    "import hdbscan\n",
    "\n",
    "import matplotlib.pyplot as plt\n",
    "from lightly.loss import NTXentLoss\n",
    "\n",
    "import simspice.utils.inverse_mapping_functions as imf\n",
    "# import simspice.models.Siamese_Architecture as SA\n",
    "# import simspice.models.Siamese_Architecture_Transformer as SA\n",
    "import simspice.models.Siamese_Architecture_Resnet as SA\n",
    "import wandb\n",
    "import tqdm\n",
    "from datetime import datetime\n",
    "\n",
    "plt.rcParams['image.origin'] = 'lower'"
   ]
  },
  {
   "cell_type": "code",
   "execution_count": 5,
   "id": "068d4d8f",
   "metadata": {},
   "outputs": [],
   "source": [
    "simspice = \"/d0/tvaresano/SimSPICE/\"\n",
    "os.environ[\"CUDA_VISIBLE_DEVICES\"] = \"2,3\""
   ]
  },
  {
   "cell_type": "code",
   "execution_count": 6,
   "id": "8ea58b0d",
   "metadata": {},
   "outputs": [],
   "source": [
    "stacked_outputs = np.load(simspice+'notebooks/jobs/model_outputs/stacked_outputs_single64_full_resnet_sb128.npy')"
   ]
  },
  {
   "cell_type": "code",
   "execution_count": 7,
   "id": "e3498ee6",
   "metadata": {},
   "outputs": [],
   "source": [
    "id = 'Fulltrained_single64_resnet_sb128'"
   ]
  },
  {
   "cell_type": "code",
   "execution_count": null,
   "id": "281f20b7",
   "metadata": {},
   "outputs": [
    {
     "name": "stderr",
     "output_type": "stream",
     "text": [
      "  0%|          | 0/3 [00:00<?, ?it/s]"
     ]
    }
   ],
   "source": [
    "for x in [10, 20, 30]:\n",
    "    for y in tqdm.tqdm([5, 10, 15]):\n",
    "        clusterer = hdbscan.HDBSCAN(min_cluster_size=x, min_samples=y, metric='euclidean') # <=> cosine?\n",
    "        clusterer.fit(stacked_outputs)\n",
    "        labels = clusterer.labels_\n",
    "        np.save(simspice+f'notebooks/jobs/clustering/{id}_minclus{x}_minsamp{y}.npy', labels)"
   ]
  },
  {
   "cell_type": "code",
   "execution_count": null,
   "id": "10b0c474",
   "metadata": {},
   "outputs": [],
   "source": [
    "c=0\n",
    "plt.figure(figsize=(15,12), tight_layout=True)\n",
    "for x in [10, 20, 30]:\n",
    "    for y in [5, 10, 15]:\n",
    "        c+=1\n",
    "        plt.subplot(4,3,c)\n",
    "        labels = np.load(simspice+f'notebooks/jobs/clustering/{id}_minclus{x}_minsamp{y}.npy')\n",
    "        imf.map_clusters(labels, dataset_path=simspice+'spectra_Feb2023.nc', selected_clusters=None)\n",
    "        plt.title(f\"min_cluster = {x}\\nmin_samples = {y}\")\n",
    "plt.suptitle(f'Feb23_{id}')"
   ]
  }
 ],
 "metadata": {
  "kernelspec": {
   "display_name": "simspice",
   "language": "python",
   "name": "python3"
  },
  "language_info": {
   "codemirror_mode": {
    "name": "ipython",
    "version": 3
   },
   "file_extension": ".py",
   "mimetype": "text/x-python",
   "name": "python",
   "nbconvert_exporter": "python",
   "pygments_lexer": "ipython3",
   "version": "3.13.5"
  }
 },
 "nbformat": 4,
 "nbformat_minor": 5
}
