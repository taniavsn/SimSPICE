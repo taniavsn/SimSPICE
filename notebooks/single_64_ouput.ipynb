{
 "cells": [
  {
   "cell_type": "markdown",
   "metadata": {},
   "source": [
    "# Clean file with modules"
   ]
  },
  {
   "cell_type": "code",
   "execution_count": null,
   "metadata": {},
   "outputs": [],
   "source": [
    "import os\n",
    "import sys\n",
    "from datetime import datetime\n",
    "parent_dir = os.path.abspath(os.path.join(os.getcwd(), '..'))\n",
    "sys.path.append(parent_dir)\n",
    "import pytorch_lightning as pl\n",
    "from pytorch_lightning.loggers import WandbLogger\n",
    "from torch import nn\n",
    "import torch.nn.functional as F\n",
    "from simspice.data import SproutDataset\n",
    "from torch.utils.data import DataLoader\n",
    "from pytorch_lightning.callbacks import ModelCheckpoint\n",
    "import torch\n",
    "import numpy as np\n",
    "import matplotlib.pyplot as plt\n",
    "import hdbscan\n",
    "\n",
    "import matplotlib.pyplot as plt\n",
    "from lightly.loss import NTXentLoss\n",
    "\n",
    "from simspice.utils import inverse_mapping_functions as imf\n",
    "from simspice.models import Siamese_Architecture as SA\n",
    "\n",
    "import umap.umap_ as umap\n",
    "import tqdm\n",
    "plt.rcParams['image.origin'] = 'lower'\n",
    "\n",
    "BATCH_SIZE = 64\n",
    "\n",
    "simspice = 'C:\\\\Users\\\\tania\\\\Documents\\\\CU Boulder\\\\CU Fall 2024\\\\ASEN 6337\\\\Individual project\\\\SimSPICE\\\\'"
   ]
  },
  {
   "cell_type": "code",
   "execution_count": null,
   "metadata": {},
   "outputs": [],
   "source": [
    "dataset_path = \"C:\\\\Users\\\\tania\\\\Documents\\\\SPICE\\\\SPROUTS\\\\datasets_deepL\\\\spectra_Feb2023.nc\"\n",
    "dataset_log = SproutDataset.SproutDataset(dataset_path=dataset_path, augmentation_type='single',\n",
    "                                           log_space=True, normalize_intensity=False)\n",
    "\n",
    "dataloader = DataLoader(\n",
    "            dataset_log,\n",
    "            batch_size=BATCH_SIZE,\n",
    "            shuffle=True)"
   ]
  },
  {
   "cell_type": "markdown",
   "metadata": {},
   "source": [
    "## Train model"
   ]
  },
  {
   "cell_type": "code",
   "execution_count": null,
   "metadata": {},
   "outputs": [],
   "source": [
    "model = SA.SimSiam(output_dim=64, backbone_output_dim=128, hidden_layer_dim=128)\n",
    "accelerator = \"gpu\" if torch.cuda.is_available() else \"cpu\"\n",
    "\n",
    "wandb_logger = WandbLogger(project=\"runs_single_augmentation\", name=f\"miniTrained_outdim64_log_{datetime.today().strftime('%Y-%m-%d')}\", log_model=True)\n",
    "\n",
    "trainer = pl.Trainer(max_epochs=15, devices=1, accelerator=accelerator, logger=wandb_logger)\n",
    "trainer.fit(model=model, train_dataloaders=dataloader)"
   ]
  },
  {
   "cell_type": "markdown",
   "metadata": {},
   "source": [
    "## If loading from previous checkpoint"
   ]
  },
  {
   "cell_type": "code",
   "execution_count": null,
   "metadata": {},
   "outputs": [],
   "source": [
    "# checkpoint = simspice+\"\\\\notebooks\\\\FullDataset_64_doubleAug_normalized_spec\\\\k81c85sl\\\\checkpoints\\\\epoch=4-step=9075.ckpt\"\n",
    "# model = SA.SimSiam.load_from_checkpoint(checkpoint)  # Continue epochs\n",
    "\n",
    "# accelerator = \"gpu\" if torch.cuda.is_available() else \"cpu\"\n",
    "# wandb_logger = WandbLogger(project=\"FullDataset_64_doubleAug_normalized_spec\", log_model=True)\n",
    "# trainer = pl.Trainer(max_epochs=10, devices=1, accelerator=accelerator, logger=wandb_logger)\n",
    "# trainer.fit(model=model, train_dataloaders=dataloader)"
   ]
  },
  {
   "cell_type": "markdown",
   "metadata": {},
   "source": [
    "-------------------------------------------------------------------"
   ]
  },
  {
   "cell_type": "code",
   "execution_count": null,
   "metadata": {},
   "outputs": [],
   "source": [
    "dataset_none = SproutDataset.SproutDataset(dataset_path=dataset_path, augmentation_type=None)\n",
    "# outputs = SA.run_model(checkpoint, dataset_none)\n",
    "model.eval()\n",
    "outputs = []\n",
    "with torch.no_grad():  # Disable gradient computation for inference\n",
    "    for i in tqdm.tqdm(range (dataset_none.__len__())):\n",
    "        spec = dataset_none.__getitem__(i).unsqueeze(0)\n",
    "        # Move tensor to the same device as the model\n",
    "        device = torch.device(\"cuda\" if torch.cuda.is_available() else \"cpu\")\n",
    "        model = model.to(device)\n",
    "        spec = spec.to(device)\n",
    "\n",
    "        outputs.append(model(spec)[0].cpu().numpy())"
   ]
  },
  {
   "cell_type": "code",
   "execution_count": null,
   "metadata": {},
   "outputs": [],
   "source": [
    "# checkpoint = \"C:\\\\Users\\\\tania\\Documents\\CU Boulder\\CU Alpine\\models_ckpts\\single_epoch=4-step=45750.ckpt\"\n",
    "# dataset_none = SproutDataset(dataset_path=dataset_path, augmentation_type=None)\n",
    "# outputs = SA.run_model(checkpoint, dataset_none)"
   ]
  },
  {
   "cell_type": "code",
   "execution_count": null,
   "metadata": {},
   "outputs": [],
   "source": [
    "stacked_outputs = np.stack(outputs).squeeze()\n",
    "stacked_outputs.shape\n",
    "np.save(simspice+'jobs\\\\model_outputs\\\\stacked_outputs_single64_feb23_log.npy', stacked_outputs)"
   ]
  },
  {
   "cell_type": "code",
   "execution_count": null,
   "metadata": {},
   "outputs": [],
   "source": [
    "stacked_outputs = np.load(simspice+'jobs\\\\model_outputs\\\\stacked_outputs_single64_feb23_log.npy')"
   ]
  },
  {
   "cell_type": "markdown",
   "metadata": {},
   "source": [
    "## Clustering"
   ]
  },
  {
   "cell_type": "code",
   "execution_count": null,
   "metadata": {},
   "outputs": [],
   "source": [
    "for x in [10, 20, 30]:\n",
    "    for y in tqdm.tqdm([5, 10, 15]):\n",
    "        clusterer = hdbscan.HDBSCAN(min_cluster_size=x, min_samples=y, metric='euclidean') # <=> cosine?\n",
    "        clusterer.fit(stacked_outputs)\n",
    "        labels = clusterer.labels_\n",
    "        np.save(simspice+f'jobs\\\\clustering\\\\Feb23trained_single_log_minclus{x}_minsamp{y}.npy', labels)"
   ]
  },
  {
   "cell_type": "code",
   "execution_count": null,
   "metadata": {},
   "outputs": [],
   "source": [
    "c=0\n",
    "plt.figure(figsize=(15,12), tight_layout=True)\n",
    "for x in [10, 20, 30]:\n",
    "    for y in [2, 5, 10]:\n",
    "        c+=1\n",
    "        plt.subplot(4,3,c)\n",
    "        labels = np.load(simspice+f'jobs\\\\clustering\\\\Feb23trained_single_log_minclus{x}_minsamp{y}.npy')\n",
    "        imf.map_clusters(labels, dataset_path=dataset_path, selected_clusters=None)\n",
    "        plt.title(f\"min_cluster = {x}\\nmin_samples = {y}\")\n",
    "plt.suptitle('Feb23_minclus_single_log')"
   ]
  }
 ],
 "metadata": {
  "kernelspec": {
   "display_name": "pytorch-env",
   "language": "python",
   "name": "python3"
  },
  "language_info": {
   "codemirror_mode": {
    "name": "ipython",
    "version": 3
   },
   "file_extension": ".py",
   "mimetype": "text/x-python",
   "name": "python",
   "nbconvert_exporter": "python",
   "pygments_lexer": "ipython3",
   "version": "3.12.7"
  }
 },
 "nbformat": 4,
 "nbformat_minor": 2
}
