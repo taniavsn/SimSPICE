{
 "cells": [
  {
   "cell_type": "markdown",
   "metadata": {},
   "source": [
    "# Augmentations"
   ]
  },
  {
   "cell_type": "code",
   "execution_count": null,
   "metadata": {},
   "outputs": [],
   "source": [
    "import os\n",
    "import torch\n",
    "import pandas as pd\n",
    "import xarray as xr\n",
    "import numpy as np\n",
    "import matplotlib.pyplot as plt\n",
    "from brokenaxes import brokenaxes\n",
    "import warnings \n",
    "import random\n",
    "import tqdm\n",
    "warnings.filterwarnings(\"ignore\")"
   ]
  },
  {
   "cell_type": "code",
   "execution_count": null,
   "metadata": {},
   "outputs": [],
   "source": [
    "from SproutDataset import SproutDataset\n",
    "from torch.utils.data import DataLoader\n",
    "from Augmentation import Augmentation\n",
    "from Sprout_ML import Sprout_ML, interpolate_arrays"
   ]
  },
  {
   "cell_type": "code",
   "execution_count": null,
   "metadata": {},
   "outputs": [],
   "source": [
    "aug = Augmentation(type_distrib_gain='uniform', num_hits=1, gain_range=(0.1, 3), normalize_intensity=False, log_space=True)"
   ]
  },
  {
   "cell_type": "code",
   "execution_count": null,
   "metadata": {},
   "outputs": [],
   "source": [
    "spectra = xr.open_dataset(\"C:\\\\Users\\\\tania\\\\Documents\\\\SPICE\\\\SPROUTS\\\\spectra_11Feb2023.nc\")\n",
    "item = spectra.isel(index=756)\n",
    "augs = [aug.run_all_augmentations(item)[0] for _ in range(1000)]\n",
    "item['flux'].values = np.abs(np.nan_to_num(np.log(item['flux'].values),nan=0, posinf=0, neginf=0))"
   ]
  },
  {
   "cell_type": "code",
   "execution_count": null,
   "metadata": {},
   "outputs": [],
   "source": [
    "plt.figure(figsize=(15,5))\n",
    "plt.plot(item['wvl'].values, item['flux'].values, color='black', label='original')\n",
    "plt.plot(item['wvl'].values, augs[20], label='augmented 1', alpha=0.6)\n",
    "plt.plot(item['wvl'].values, augs[40], label='augmented 2', alpha=0.6)\n",
    "\n",
    "plt.ylabel('Flux')\n",
    "#plt.ylim(0,8)\n",
    "plt.xlabel('Wavelength (A)')\n",
    "plt.title('1 sample')\n",
    "plt.legend()"
   ]
  },
  {
   "cell_type": "code",
   "execution_count": null,
   "metadata": {},
   "outputs": [],
   "source": [
    "item['wvl'].values[276:350]"
   ]
  },
  {
   "cell_type": "code",
   "execution_count": null,
   "metadata": {},
   "outputs": [],
   "source": [
    "plt.figure(figsize=(10,5))\n",
    "plt.plot(item['wvl'].values[276:350], item['flux'][276:350].values, color='black', label='original')\n",
    "plt.plot(item['wvl'].values[276:350], augs[20][276:350], label='augmented', alpha=0.6)\n",
    "plt.plot(item['wvl'].values[276:350], augs[40][276:350], label='augmented', alpha=0.6)\n",
    "\n",
    "plt.ylabel('Flux')\n",
    "plt.ylim(0,8)\n",
    "plt.xlabel('Wavelength (A)')\n",
    "plt.title('Zoom on the H I / C III window')\n",
    "plt.legend()"
   ]
  },
  {
   "cell_type": "code",
   "execution_count": null,
   "metadata": {},
   "outputs": [],
   "source": [
    "stacked_augs = np.stack(augs)  # Convert list to NumPy array (shape: 1000, 451)\n",
    "\n",
    "medians_1000aug = np.median(stacked_augs, axis=0)\n",
    "_10_perc_1000aug = np.quantile(stacked_augs, 0.1, axis=0)\n",
    "_25_perc_1000aug = np.quantile(stacked_augs, 0.25, axis=0)\n",
    "_75_perc_1000aug = np.quantile(stacked_augs, 0.75, axis=0)\n",
    "_90_perc_1000aug = np.quantile(stacked_augs, 0.9, axis=0)"
   ]
  },
  {
   "cell_type": "code",
   "execution_count": null,
   "metadata": {},
   "outputs": [],
   "source": [
    "plt.figure(figsize=(20, 12), tight_layout=True)\n",
    "wvl = item['wvl'].values  \n",
    "flux = item['flux'].values\n",
    "\n",
    "# Extract statistics for the current item\n",
    "medians = medians_1000aug\n",
    "q10 = _10_perc_1000aug\n",
    "q25 = _25_perc_1000aug\n",
    "q75 = _75_perc_1000aug\n",
    "q90 = _90_perc_1000aug\n",
    "\n",
    "# First subplot (Short wavelengths)\n",
    "plt.subplot(221)\n",
    "plt.title('Short wavelengths')\n",
    "plt.gca().fill_between(wvl[:110], q25[:110], q75[:110], color='tab:green', alpha=0.4, label='25th to 75th')\n",
    "plt.gca().fill_between(wvl[:110], q10[:110], q25[:110], color='tab:orange', alpha=0.4, label='10th to 90th')\n",
    "plt.gca().fill_between(wvl[:110], q75[:110], q90[:110], color='tab:orange', alpha=0.4)\n",
    "plt.plot(wvl[:110], medians[:110], label='Median', color='black', alpha=0.6)\n",
    "plt.plot(wvl[:110], flux[:110], label='Original', color=\"r\", linestyle='--', alpha=0.6)\n",
    "plt.legend()\n",
    "\n",
    "# Second subplot (Short wavelengths)\n",
    "plt.subplot(222)\n",
    "plt.title('Short wavelengths')\n",
    "plt.gca().fill_between(wvl[110:270], q25[110:270], q75[110:270], color='tab:green', alpha=0.4, label='25th to 75th')\n",
    "plt.gca().fill_between(wvl[110:270], q10[110:270], q25[110:270], color='tab:orange', alpha=0.4, label='10th to 90th')\n",
    "plt.gca().fill_between(wvl[110:270], q75[110:270], q90[110:270], color='tab:orange', alpha=0.4)\n",
    "plt.plot(wvl[110:270], medians[110:270], label='Median', color='black', alpha=0.6)\n",
    "plt.plot(wvl[110:270], flux[110:270], label='Original', color=\"r\", linestyle='--', alpha=0.6)\n",
    "# for item in items:\n",
    "#     wvl = items[0]['wvl'].values [110:270] \n",
    "#     plt.plot(wvl, item['flux'].values[110:270], color='gray', alpha=0.2)\n",
    "# plt.legend()\n",
    "\n",
    "# Third subplot (Long wavelengths)\n",
    "plt.subplot(223)\n",
    "plt.title('Long wavelengths')\n",
    "plt.gca().fill_between(wvl[276:400], q25[276:400], q75[276:400], color='tab:green', alpha=0.4, label='25th to 75th')\n",
    "plt.gca().fill_between(wvl[276:400], q10[276:400], q25[276:400], color='tab:orange', alpha=0.4, label='10th to 90th')\n",
    "plt.gca().fill_between(wvl[276:400], q75[276:400], q90[276:400], color='tab:orange', alpha=0.4)\n",
    "plt.plot(wvl[276:400], medians[276:400], label='Median', color='black', alpha=0.6)\n",
    "plt.plot(wvl[276:400], flux[276:400], label='Original', color=\"r\", linestyle='--', alpha=0.6)\n",
    "plt.legend()\n",
    "\n",
    "# Fourth subplot (Long wavelengths)\n",
    "plt.subplot(224)\n",
    "plt.title('Long wavelengths')\n",
    "plt.gca().fill_between(wvl[401:], q25[401:], q75[401:], color='tab:green', alpha=0.4, label='25th to 75th')\n",
    "plt.gca().fill_between(wvl[401:], q10[401:], q25[401:], color='tab:orange', alpha=0.4, label='10th to 90th')\n",
    "plt.gca().fill_between(wvl[401:], q75[401:], q90[401:], color='tab:orange', alpha=0.4)\n",
    "plt.plot(wvl[401:], medians[401:], label='Median', color='black', alpha=0.6)\n",
    "plt.plot(wvl[401:], flux[401:], label='Original', color=\"r\", linestyle='--', alpha=0.6)\n",
    "plt.legend()\n",
    "\n",
    "#plt.suptitle('Gaussian distribution, unnormalized intenisty\\nGain range (0.1,3)', fontsize=16)\n",
    "plt.suptitle('Uniform distribution, normalized intenisty\\nGain range (0.1,3)', fontsize=16)\n",
    "plt.show()\n"
   ]
  },
  {
   "cell_type": "markdown",
   "metadata": {},
   "source": [
    "-----------------------------------------------------------------\n"
   ]
  },
  {
   "cell_type": "markdown",
   "metadata": {},
   "source": [
    "# 100 augmentations"
   ]
  },
  {
   "cell_type": "code",
   "execution_count": null,
   "metadata": {},
   "outputs": [],
   "source": [
    "items = [spectra.isel(index=x) for x in [random.randint(0, len(spectra['index'])) for i in range(100)]]"
   ]
  },
  {
   "cell_type": "code",
   "execution_count": null,
   "metadata": {},
   "outputs": [],
   "source": [
    "aug = Augmentation(type_distrib_gain='gaussian', num_hits=1, gain_range=(0.1, 3), normalize_intensity=False)"
   ]
  },
  {
   "cell_type": "code",
   "execution_count": null,
   "metadata": {},
   "outputs": [],
   "source": [
    "augs_dict = {}\n",
    "\n",
    "for idx, item in enumerate(items):\n",
    "    augs_dict[f\"augs_{idx}\"] = [aug.run_all_augmentations(item)[0] for _ in range(1000)]"
   ]
  },
  {
   "cell_type": "code",
   "execution_count": null,
   "metadata": {},
   "outputs": [],
   "source": [
    "medians_1000aug = {}\n",
    "_10_perc_1000aug = {}\n",
    "_25_perc_1000aug = {}\n",
    "_75_perc_1000aug = {}\n",
    "_90_perc_1000aug = {}\n",
    "\n",
    "for key, augs in augs_dict.items():\n",
    "    stacked_augs = np.stack(augs)  # Convert list to NumPy array (shape: 1000, 451)\n",
    "\n",
    "    medians_1000aug[key] = np.median(stacked_augs, axis=0)\n",
    "    _10_perc_1000aug[key] = np.quantile(stacked_augs, 0.1, axis=0)\n",
    "    _25_perc_1000aug[key] = np.quantile(stacked_augs, 0.25, axis=0)\n",
    "    _75_perc_1000aug[key] = np.quantile(stacked_augs, 0.75, axis=0)\n",
    "    _90_perc_1000aug[key] = np.quantile(stacked_augs, 0.9, axis=0)\n"
   ]
  },
  {
   "cell_type": "code",
   "execution_count": null,
   "metadata": {},
   "outputs": [],
   "source": [
    "plt.figure(figsize=(20, 12), tight_layout=True)\n",
    "x=0\n",
    "for key, item in augs_dict.items():\n",
    "    #plt.figure(figsize=(10, 6), tight_layout=True)\n",
    "    wvl = items[0]['wvl'].values  \n",
    "    flux = items[x]['flux'].values\n",
    "\n",
    "    # Extract statistics for the current item\n",
    "    medians = medians_1000aug[key]\n",
    "    q10 = _10_perc_1000aug[key]\n",
    "    q25 = _25_perc_1000aug[key]\n",
    "    q75 = _75_perc_1000aug[key]\n",
    "    q90 = _90_perc_1000aug[key]\n",
    "\n",
    "    # First subplot (Short wavelengths)\n",
    "    plt.subplot(221)\n",
    "    plt.title('Short wavelengths')\n",
    "    plt.gca().fill_between(wvl[:110], q25[:110], q75[:110], color='tab:green', alpha=0.2, label='25th to 75th')\n",
    "    plt.gca().fill_between(wvl[:110], q10[:110], q25[:110], color='tab:orange', alpha=0.2, label='10th to 90th')\n",
    "    plt.gca().fill_between(wvl[:110], q75[:110], q90[:110], color='tab:orange', alpha=0.2)\n",
    "    plt.plot(wvl[:110], medians[:110], label='Median', color='black', alpha=0.2)\n",
    "    plt.plot(wvl[:110], flux[:110], label='Original', color=\"r\", linestyle='--', alpha=0.2)\n",
    "    # plt.legend()\n",
    "\n",
    "    # Second subplot (Short wavelengths)\n",
    "    plt.subplot(222)\n",
    "    plt.title('Short wavelengths')\n",
    "    plt.gca().fill_between(wvl[110:270], q25[110:270], q75[110:270], color='tab:green', alpha=0.2, label='25th to 75th')\n",
    "    plt.gca().fill_between(wvl[110:270], q10[110:270], q25[110:270], color='tab:orange', alpha=0.2, label='10th to 90th')\n",
    "    plt.gca().fill_between(wvl[110:270], q75[110:270], q90[110:270], color='tab:orange', alpha=0.2)\n",
    "    plt.plot(wvl[110:270], medians[110:270], label='Median', color='black', alpha=0.2)\n",
    "    plt.plot(wvl[110:270], flux[110:270], label='Original', color=\"r\", linestyle='--', alpha=0.2)\n",
    "    #  plt.legend()\n",
    "\n",
    "    # Third subplot (Long wavelengths)\n",
    "    plt.subplot(223)\n",
    "    plt.title('Long wavelengths')\n",
    "    plt.gca().fill_between(wvl[276:400], q25[276:400], q75[276:400], color='tab:green', alpha=0.2, label='25th to 75th')\n",
    "    plt.gca().fill_between(wvl[276:400], q10[276:400], q25[276:400], color='tab:orange', alpha=0.2, label='10th to 90th')\n",
    "    plt.gca().fill_between(wvl[276:400], q75[276:400], q90[276:400], color='tab:orange', alpha=0.2)\n",
    "    plt.plot(wvl[276:400], medians[276:400], label='Median', color='black', alpha=0.2)\n",
    "    plt.plot(wvl[276:400], flux[276:400], label='Original', color=\"r\", linestyle='--', alpha=0.2)\n",
    "    # plt.legend()\n",
    "\n",
    "    # Fourth subplot (Long wavelengths)\n",
    "    plt.subplot(224)\n",
    "    plt.title('Long wavelengths')\n",
    "    plt.gca().fill_between(wvl[401:], q25[401:], q75[401:], color='tab:green', alpha=0.2, label='25th to 75th')\n",
    "    plt.gca().fill_between(wvl[401:], q10[401:], q25[401:], color='tab:orange', alpha=0.2, label='10th to 90th')\n",
    "    plt.gca().fill_between(wvl[401:], q75[401:], q90[401:], color='tab:orange', alpha=0.2)\n",
    "    plt.plot(wvl[401:], medians[401:], label='Median', color='black', alpha=0.2)\n",
    "    plt.plot(wvl[401:], flux[401:], label='Original', color=\"r\", linestyle='--', alpha=0.2)\n",
    "    # plt.legend()\n",
    "    x+=1\n",
    "\n",
    "plt.suptitle(f'Gaussian distribution, unnormalized intensity', fontsize=16)\n",
    "plt.show()\n",
    "\n",
    "# plt.figure(figsize=(20, 12), tight_layout=True)\n",
    "\n",
    "# for item in items:\n",
    "#     wvl = items[0]['wvl'].values  \n",
    "#     plt.plot(wvl, item['flux'].values)\n",
    "# plt.ylim(0,50)\n"
   ]
  },
  {
   "cell_type": "code",
   "execution_count": null,
   "metadata": {},
   "outputs": [],
   "source": [
    "plt.figure(figsize=(15,4))\n",
    "for x in range(1000):\n",
    "    plt.plot(wvl, augs_dict['augs_50'][x])\n",
    "plt.plot(wvl, items[50]['flux'].values, color='black', linestyle='--')\n"
   ]
  },
  {
   "cell_type": "markdown",
   "metadata": {},
   "source": [
    "# Test dataset"
   ]
  },
  {
   "cell_type": "code",
   "execution_count": null,
   "metadata": {},
   "outputs": [],
   "source": [
    "import Siamese_Architecture as SA\n",
    "from pytorch_lightning.loggers import WandbLogger\n",
    "import pytorch_lightning as pl"
   ]
  },
  {
   "cell_type": "code",
   "execution_count": null,
   "metadata": {},
   "outputs": [],
   "source": [
    "dataset_path = \"C:\\\\Users\\\\tania\\\\Documents\\\\SPICE\\\\SPROUTS\\\\spectra_11Feb2023.nc\"\n",
    "BATCH_SIZE=32\n",
    "dataset = SproutDataset(dataset_path=dataset_path, augmentation_type='double', log10space=True)\n",
    "dataloader = DataLoader(\n",
    "            dataset,\n",
    "            batch_size=BATCH_SIZE,\n",
    "            shuffle=True)"
   ]
  },
  {
   "cell_type": "code",
   "execution_count": null,
   "metadata": {},
   "outputs": [],
   "source": [
    "model = SA.SimSiam(output_dim=64, backbone_output_dim=128, hidden_layer_dim=128)\n",
    "\n",
    "wandb_logger = WandbLogger(project=\"feb11Dataset_64_doubleAug_log\", log_model=True)\n",
    "accelerator = \"gpu\" if torch.cuda.is_available() else \"cpu\"\n",
    "trainer = pl.Trainer(max_epochs=1, devices=1, accelerator=accelerator, logger=wandb_logger)"
   ]
  },
  {
   "cell_type": "code",
   "execution_count": null,
   "metadata": {},
   "outputs": [],
   "source": [
    "trainer.fit(model=model, train_dataloaders=dataloader)"
   ]
  },
  {
   "cell_type": "code",
   "execution_count": null,
   "metadata": {},
   "outputs": [],
   "source": [
    "import tqdm\n",
    "model.eval()\n",
    "outputs = []\n",
    "with torch.no_grad():  # Disable gradient computation for inference\n",
    "    for i in tqdm.tqdm(range (dataset.__len__())):\n",
    "        spec = dataset.__getitem__(i).unsqueeze(0)\n",
    "        # Move tensor to the same device as the model\n",
    "        device = torch.device(\"cuda\" if torch.cuda.is_available() else \"cpu\")\n",
    "        model = model.to(device)\n",
    "        spec = spec.to(device)\n",
    "\n",
    "        outputs.append(model(spec)[0].cpu().numpy())"
   ]
  },
  {
   "cell_type": "code",
   "execution_count": null,
   "metadata": {},
   "outputs": [],
   "source": []
  }
 ],
 "metadata": {
  "kernelspec": {
   "display_name": "pytorch-env",
   "language": "python",
   "name": "python3"
  },
  "language_info": {
   "codemirror_mode": {
    "name": "ipython",
    "version": 3
   },
   "file_extension": ".py",
   "mimetype": "text/x-python",
   "name": "python",
   "nbconvert_exporter": "python",
   "pygments_lexer": "ipython3",
   "version": "3.12.7"
  }
 },
 "nbformat": 4,
 "nbformat_minor": 2
}
